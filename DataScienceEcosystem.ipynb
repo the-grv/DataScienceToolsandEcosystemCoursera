{
 "cells": [
  {
   "cell_type": "markdown",
   "id": "688040ea",
   "metadata": {},
   "source": [
    "# Data Science Tools and Ecosystem"
   ]
  },
  {
   "cell_type": "markdown",
   "id": "df504a94",
   "metadata": {},
   "source": [
    "In this notebook, Data Science Tools and Ecosystem are summarized."
   ]
  },
  {
   "cell_type": "markdown",
   "id": "f73867f6",
   "metadata": {},
   "source": [
    "__Objectives:__\n",
    "* list popular languages for Data Science\n",
    "* list of popular libraries\n",
    "* list of well know Data Science Tools\n",
    "* providing comments in the cell by using #"
   ]
  },
  {
   "cell_type": "markdown",
   "id": "79615b02",
   "metadata": {},
   "source": [
    "Some of the popular languages that Data Scientists use are:\n",
    "1. Pyhton\n",
    "2. C\n",
    "3. C++\n",
    "4. Java etc"
   ]
  },
  {
   "cell_type": "markdown",
   "id": "ac7108a6",
   "metadata": {},
   "source": [
    "Some of the commonly used libraries used by Data Scientists include:\n",
    "1. Pandas\n",
    "2. Seaborn\n",
    "3. Numpy\n",
    "4. Tensorflow\n",
    "5. SciKitLearn"
   ]
  },
  {
   "cell_type": "markdown",
   "id": "eac5555b",
   "metadata": {},
   "source": [
    "|Data Science Tools|\n",
    "|----|\n",
    "|SAS|\n",
    "|Apache Hadoop|\n",
    "|Tensor Flow|"
   ]
  },
  {
   "cell_type": "markdown",
   "id": "986a34d5",
   "metadata": {},
   "source": [
    "### Below are a few examples of evaluating arithmetic expressions in Python"
   ]
  },
  {
   "cell_type": "code",
   "execution_count": 3,
   "id": "5e79242f",
   "metadata": {},
   "outputs": [
    {
     "data": {
      "text/plain": [
       "17"
      ]
     },
     "execution_count": 3,
     "metadata": {},
     "output_type": "execute_result"
    }
   ],
   "source": [
    "(3*4)+5 #This a simple arithmetic expression to mutiply then add integers"
   ]
  },
  {
   "cell_type": "code",
   "execution_count": 5,
   "id": "e7252c18",
   "metadata": {},
   "outputs": [
    {
     "data": {
      "text/plain": [
       "2.0"
      ]
     },
     "execution_count": 5,
     "metadata": {},
     "output_type": "execute_result"
    }
   ],
   "source": [
    "#This will convert 200 minutes to hours by diving by 60\n",
    "120/60"
   ]
  },
  {
   "cell_type": "markdown",
   "id": "609ee893",
   "metadata": {},
   "source": [
    "## Author\n",
    "Gaurav"
   ]
  },
  {
   "cell_type": "code",
   "execution_count": null,
   "id": "c24a02dd",
   "metadata": {},
   "outputs": [],
   "source": []
  }
 ],
 "metadata": {
  "kernelspec": {
   "display_name": "Python 3 (ipykernel)",
   "language": "python",
   "name": "python3"
  },
  "language_info": {
   "codemirror_mode": {
    "name": "ipython",
    "version": 3
   },
   "file_extension": ".py",
   "mimetype": "text/x-python",
   "name": "python",
   "nbconvert_exporter": "python",
   "pygments_lexer": "ipython3",
   "version": "3.10.5"
  }
 },
 "nbformat": 4,
 "nbformat_minor": 5
}
